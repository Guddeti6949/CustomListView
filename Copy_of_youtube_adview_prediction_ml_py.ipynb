{
  "cells": [
    {
      "cell_type": "markdown",
      "metadata": {
        "id": "view-in-github",
        "colab_type": "text"
      },
      "source": [
        "<a href=\"https://colab.research.google.com/github/Guddeti6949/CustomListView/blob/master/Copy_of_youtube_adview_prediction_ml_py.ipynb\" target=\"_parent\"><img src=\"https://colab.research.google.com/assets/colab-badge.svg\" alt=\"Open In Colab\"/></a>"
      ]
    },
    {
      "cell_type": "markdown",
      "metadata": {
        "id": "1gBD2OlniXeI"
      },
      "source": [
        "# New section"
      ]
    },
    {
      "cell_type": "code",
      "source": [
        "import java.util.*;\n",
        "class Pizzamania\n",
        "{\n",
        "public static void main(String args[])\n",
        "{\n",
        "System.out.println(\"Enter the type of Pizza you want: \");\n",
        "System.out.println(\"--------------------Welcome to Pizzamania--------------------\\n\");\n",
        "System.out.println(\"For Veg Pizza press '1' : \");\n",
        "System.out.println(\"For NonVeg Pizza press '2' : \");\n",
        "System.out.println(\"For Deluxe Veg Pizza press '3' : \");\n",
        "System.out.println(\"For Deluxe NonVeg Pizza press '4' : \");\n",
        "System.out.println(\"Response: \");\n",
        "\n",
        "\n",
        "Scanner sc=new Scanner(System.in);\n",
        "int ch=sc.nextInt();\n",
        "switch(ch)\n",
        "{\n",
        "case 1:\n",
        "\tPizza vegpizza=new Pizza(300);\n",
        "\n",
        "\n",
        "break;\n",
        "case 2:\n",
        "\tPizza nonvegpizza=new Pizza(400);\n",
        "\n",
        "\n",
        "break;\n",
        "case 3:\n",
        "\tDeluxePizza deluxevegpizza=new DeluxePizza(550);\n",
        "\n",
        "\n",
        "break;\n",
        "case 4:\n",
        "\tDeluxePizza deluxenonvegpizza=new DeluxePizza(650);\n",
        "\n",
        "\n",
        "break;\n",
        "}\n",
        "\n",
        "\n",
        "\n",
        "}\n",
        "}\n",
        "\n",
        "\n",
        "\n",
        "class Pizza\n",
        "{\n",
        "int a;\n",
        "Pizza(int a)\n",
        "{\n",
        "this.a=a;\n",
        "Scanner sc=new Scanner(System.in);\n",
        "System.out.println(\"Want to Add Extra Topping(1/0): \");\n",
        "int ch1=Integer.parseInt(sc.nextLine());\n",
        "if(ch1==1)\n",
        "{\n",
        "addExtraTopping();\n",
        "}\n",
        "System.out.println(\"Want to Add Extra Cheese(1/0): \");\n",
        "int ch2=Integer.parseInt(sc.nextLine());\n",
        "if(ch2==1)\n",
        "{\n",
        "addExtraCheese();\n",
        "}\n",
        "System.out.println(\"Wanna TakeAway(1/0): \");\n",
        "int ch3=Integer.parseInt(sc.nextLine());\n",
        "if(ch3==1)\n",
        "{\n",
        "takeAway();\n",
        "}\n",
        "getBill();\n",
        "}\n",
        "public void addExtraTopping()\n",
        "{\n",
        "int x=150;\n",
        "a=a+x;\n",
        "}\n",
        "public void addExtraCheese()\n",
        "{\n",
        "int y=100;\n",
        "a=a+y;\n",
        "}\n",
        "\n",
        "\n",
        "public void takeAway()\n",
        "{\n",
        "int z=20;\n",
        "a=a+z;\n",
        "}\n",
        "public void getBill()\n",
        "{\n",
        "System.out.println(\"Total Bill: \"+a);\n",
        "System.out.println(\"--------------------Thank You!!!!!Visit Again...--------------------\");\n",
        "}\n",
        "}\n",
        "\n",
        "class DeluxePizza\n",
        "{\n",
        "int x=150;\n",
        "int y=100;\n",
        "int a;\n",
        "DeluxePizza(int a)\n",
        "{\n",
        "this.a=a;\n",
        "Scanner sc=new Scanner(System.in);\n",
        "System.out.println(\"Wanna TakeAway(1/0): \");\n",
        "int ch3=Integer.parseInt(sc.nextLine());\n",
        "if(ch3==1)\n",
        "{\n",
        "takeAway();\n",
        "}\n",
        "getBill();\n",
        "}\n",
        "public void takeAway()\n",
        "{\n",
        "int z=20;\n",
        "a=a+z;\n",
        "}\n",
        "public void getBill()\n",
        "{\n",
        "a=a+x+y;\n",
        "System.out.println(\"Total Bill: \"+a);\n",
        "System.out.println(\"--------------------------------------------------------------------------------------------------------\");\n",
        "}\n",
        "}"
      ],
      "metadata": {
        "colab": {
          "base_uri": "https://localhost:8080/",
          "height": 106
        },
        "id": "vkjuxB8woE9b",
        "outputId": "061c5141-6b33-403c-b4ca-15fd4517e770"
      },
      "execution_count": null,
      "outputs": [
        {
          "output_type": "error",
          "ename": "SyntaxError",
          "evalue": "invalid syntax (<ipython-input-1-b81ce6d1c308>, line 1)",
          "traceback": [
            "\u001b[0;36m  File \u001b[0;32m\"<ipython-input-1-b81ce6d1c308>\"\u001b[0;36m, line \u001b[0;32m1\u001b[0m\n\u001b[0;31m    import java.util.*;\u001b[0m\n\u001b[0m                     ^\u001b[0m\n\u001b[0;31mSyntaxError\u001b[0m\u001b[0;31m:\u001b[0m invalid syntax\n"
          ]
        }
      ]
    }
  ],
  "metadata": {
    "colab": {
      "provenance": [],
      "toc_visible": true,
      "gpuType": "T4",
      "include_colab_link": true
    },
    "kernelspec": {
      "display_name": "Java",
      "name": "java"
    },
    "accelerator": "GPU"
  },
  "nbformat": 4,
  "nbformat_minor": 0
}